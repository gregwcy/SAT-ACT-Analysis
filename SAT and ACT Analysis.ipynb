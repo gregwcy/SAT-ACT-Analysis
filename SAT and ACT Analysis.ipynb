{
 "cells": [
  {
   "cell_type": "markdown",
   "id": "876a3ef0",
   "metadata": {},
   "source": [
    "## SAT and ACT analysis\n",
    "\n",
    "### Problem Statement\n",
    "\n",
    "We seek to understand the reasons behind the variations in participation rates for the SAT and ACT tests across the different states in the US. After examining the trends and teasing out factors of interest, we look at what steps we can take to most effectivly increase SAT participation rates.\n"
   ]
  },
  {
   "cell_type": "markdown",
   "id": "e183f950",
   "metadata": {},
   "source": [
    "### Introduction to Data Sources Used\n",
    "\n",
    "The data we are looking at includes the following:\n",
    "1. SAT participation rates and breakdown fo scores for 2017 and 2018.\n",
    "2. ACT participation rates and breakdown fo scores for 2017 and 2018.\n",
    "3. Election results of each state in the 2016 presidential elections.\n",
    "4. Median household income per state in 2017 and 2018.\n",
    "5. The level of educational attainment in 2021 - this includes proportion of high school graduates and bachelor's degree holders."
   ]
  },
  {
   "cell_type": "markdown",
   "id": "c053e5ac",
   "metadata": {},
   "source": [
    "### Executive Summary\n",
    "\n",
    "This project seeks to understand the trends behind college admission test across the United States, namely the SAT and ACT. After which, we hope to have better insight into the differences in participation rates across states and tests and formulate the ways to most effectively increase participation rate for the SATs.\n",
    "\n",
    "\n",
    "The participation rate for both tests vary from state to state. The distribution is motly bimodal with clusters around 90% - 100% participation and 0% - 10%. This is due to the fact that a number of states fund either test or require all students in public schools to take either one for high school graduation. \n",
    "\n",
    "The key findings include a strong negative correlation between participation rates and scores. The more students in a particular state take the test, the lower the average score for te test. This is due to the fact that a larger sample will be skewed more towards a lower score. In states where students choose to take a test which is not mandatory, these students are likely to be more driven and this smaller sample has the potential to be biased. \n",
    "\n",
    "There is a positive correlation between SAT participation and the median household income of the particular state. On the other hand, there is a negative correlation between median household income and ACT participation.\n",
    "\n",
    "States that have a higher participation rate in the SATs have a higher proportion of degree holders as well. The converse is true for ACT participation.\n",
    "\n",
    "Based on the 2016 presidential elections, states that require mandatory SAT participation are more likely to be democratic and republican states are more likely to mandate the ACT.\n",
    "\n",
    "We also look at the stae of Colorado which switched from the ACT to SAT as their choice for the mandatory state test. Since 2001, Colorado has required every high school junior to take the ACT as their 11th grade college entrance\n",
    "exam, for which the state covered the cost. House Bill 15-1323 established a competitive bid process for\n",
    "Colorado’s college entrance exam (including both 10th and 11th grade assessments). In December of 2015, a\n",
    "selection committee composed of educators, counselors and administrators from diverse geographic regions\n",
    "across the state voted to adopt SAT as the required test. Several other states have recently made the same\n",
    "decision to use SAT instead of ACT, including Connecticut, Michigan, Hawaii, Oregon, South Carolina, and Illinois.\n",
    "Parents/students will not be charged any additional fees for the switch to SAT.\n",
    "In March 2015, College Board partnered with Khan Academy to provide free, personalized test prep for\n",
    "any student with computer access, saving students and families at least $300 and leveling the playing\n",
    "field for families that might not be able to afford test prep or tutors for their children.\n",
    "\n"
   ]
  },
  {
   "cell_type": "markdown",
   "id": "2347aa89",
   "metadata": {},
   "source": [
    "### Conclusions and Recommendations\n",
    "\n",
    "The best way for us to increase participation in the SAT is to have it be the mandatory test of choice for a particular state. Education should be one of the top priorities for any state and most states will be able to afford funding for the test. This should also be an easy decision for states to make as there is a strong positive correlation between median household income and the proportion of bachelor degree holders in a particular state.\n",
    "\n",
    "This then begs the question - which states should we target? We first remove all states that have more than 90% pariticpation in the SATs. We then should narrow down to democratic states and also states with a relatively higher median household income.\n",
    "\n",
    "Democratic states that do not have a high rate of participation include Nevada (currently using the ACT) and also New Mexico.\n",
    "\n",
    "Wisconsin and Wyoming are also the 2 states that have relatively high median household income of 90, 773 and 61, 584 respectively. \n",
    "\n",
    "When doing so and attempting to convince the state to take on the SAT, we should first see what additional resources we can provide to support the students in the state (Khan Academy being one such example). It is also important to provide the statistics such as the proportion of Bachelor Degree holders in states that choose to administer the SAT and also the positive benefit of a higher household median income."
   ]
  },
  {
   "cell_type": "markdown",
   "id": "f4bb63fe",
   "metadata": {},
   "source": [
    "### Data Dictionary\n",
    "\n",
    "The table below includes useful elaborations on each field of data in the data set we examine."
   ]
  },
  {
   "cell_type": "markdown",
   "id": "10e0956b",
   "metadata": {},
   "source": [
    "|Feature|Type|Dataset|Description|\n",
    "|---|---|---|---|\n",
    "|**state**|object|ACT 2017|*State*|\n",
    "|**part_act2017**|float|ACT 2017|*Participation for the state for 2017 ACT (scaled from 0 - 1*|\n",
    "|**english_act2017**|float|ACT 2017|*Average score for state for English component for 2017 ACT*|\n",
    "|**math_act2017**|float|ACT 2017|*Average score for state for Math component for 2017 ACT*|\n",
    "|**reading_act2017**|float|ACT 2017|*Average score for state for Reading component for 2017 ACT*|\n",
    "|**science_act2017**|float|ACT 2017|*Average score for state for Science component for 2017 ACT*|\n",
    "|**composite_act2017**|float|ACT 2017|*Average composite score for state for 2017 ACT*|\n",
    "|**state**|object|SAT 2017|*State*|\n",
    "|**part_sat2017**|float|SAT 2017|*Participation for the state for 2017 SAT (scaled from 0 - 1*|\n",
    "|**read_n_write_sat2017**|int|SAT 2017|*Average Evidence-based Reading and Writing score for state for 2017 SAT*|\n",
    "|**math_sat2017**|int|SAT 2017|*Average Math score for state for 2017 SAT*|\n",
    "|**total_sat2017**|int|SAT 2017|*Average Total score for state for 2017 SAT*|\n",
    "|**state**|object|ACT 2018|*State*|\n",
    "|**part_act2018**|float|ACT 2018|*Participation for the state for 2018 ACT (scaled from 0 - 1*|\n",
    "|**english_act2018**|float|ACT 2018|*Average score for state for English component for 2018 ACT*|\n",
    "|**math_act2018**|float|ACT 2018|*Average score for state for Math component for 2018 ACT*|\n",
    "|**reading_act2018**|float|ACT 2018|*Average score for state for Reading component for 2018 ACT*|\n",
    "|**science_act2018**|float|ACT 2018|*Average score for state for Science component for 2018 ACT*|\n",
    "|**composite_act2018**|float|ACT 2018|*Average composite score for state for 2018 ACT*|\n",
    "|**state**|object|SAT 2018|*State*|\n",
    "|**part_sat2018**|float|SAT 2018|*Participation for the state for 2018 SAT (scaled from 0 - 1*|\n",
    "|**read_n_write_sat2018**|int|SAT 2018|*Average Evidence-based Reading and Writing score for state for 2018 SAT*|\n",
    "|**math_sat2018**|int|SAT 2018|*Average Math score for state for 2018 SAT*|\n",
    "|**total_sat2018**|int|SAT 2018|*Average Total score for state for 2018 SAT*|\n",
    "|**part_change_sat2018**|float|SAT 2017, SAT 2018|*Change in participation for a particular state from 2017 SAT to 2018 SAT*|\n",
    "|**part_change_act2018**|float|ACT 2017, ACT 2018|*Change in participation for a particular state from 2017 SAT to 2018 ACT*|\n",
    "|**diff_act2018**|float|ACT 2017, ACT 2018|*Change in composite score for a particular state from 2017 ACT to 2018 ACT*|\n",
    "|**diff_sat2018**|int|SAT 2017, SAT 2018|*Change in total score for a particular state from 2017 SAT to 2018 SAT*|\n",
    "|**is_republican**|int|NY Times|*1 if state is majority republican for 2016 presidential elecitons, 0 if democratic*|\n",
    "|**med_house_ince_2017**|int|US Census Bureau|*Median household income for a particular state for 2017*|\n",
    "|**med_house_ince_2018**|int|US Census Bureau|*Median household income for a particular state for 2018*|\n",
    "|**highschool_2021**|float|US Census Bureau|*Proportion of state that graduated high school (range from 0 to 1)*|\n",
    "|**bachelor_2021**|float|US Census Bureau|*Proportion of state that are Bachelor's degree holders (range from 0 to 1)*|\n"
   ]
  },
  {
   "attachments": {},
   "cell_type": "markdown",
   "id": "a9dc0ef0",
   "metadata": {},
   "source": [
    "### Sources\n",
    "\n",
    "[SAT](https://blog.collegevine.com/here-are-the-average-sat-scores-by-state/)\n",
    "\n",
    "[ACT](https://www.act.org/content/dam/act/unsecured/documents/cccr2017/ACT_2017-Average_Scores_by_State.pdf)\n",
    "\n",
    "[NY Times 2016 Election Results](https://www.nytimes.com/elections/2016/results/president)\n",
    "\n",
    "[Education attainment for US](https://www.census.gov/data/tables/2018/demo/education-attainment/cps-detailed-tables.html)\n",
    "\n",
    "[Education attainment for Columbia](https://www.richmondfed.us/-/media/richmondfedorg/research/regional_economy/reports/special_reports/pdf/educational_attainment_dc.pdf)\n",
    "\n",
    "[US Population Stats](https://worldpopulationreview.com/states)\n",
    "\n",
    "[US Income Stats](https://data.census.gov/cedsci/map?q=S1901%3A%20INCOME%20IN%20THE%20PAST%2012%20MONTHS%20%28IN%202018%20INFLATION-ADJUSTED%20DOLLARS%29&g=0400000US01,02,04,05,06,08,09,10,12,13,15,16,17,18,19,20,21,22,23,24,25,26,27,28,29,30,31,32,33,34,35,36,37,38,39,40,41,42,44,45,46,47,48,49,50,51,53,54,55,56,72&tid=ACSST1Y2018.S1901&hidePreview=false&cid=S1901_C01_001E&vintage=2018&layer=VT_2018_040_00_PP_D1)\n",
    "\n",
    "[ACT to SAT Score Converion](https://www.princetonreview.com/college-advice/act-to-sat-conversion)\n",
    "\n",
    "[SAT vs ACT Comparison](https://blog.prepscholar.com/which-states-require-the-act-full-list-and-advice)\n",
    "\n",
    "[More funding for ACT](https://www.washingtonpost.com/local/education/growing-number-of-states-fund-act-college-admission-testing-for-11th-grade-students/2014/08/19/eb0edcba-27a7-11e4-86ca-6f03cbd15c1a_story.html)\n",
    "\n",
    "\n"
   ]
  },
  {
   "cell_type": "code",
   "execution_count": null,
   "id": "0cd68a84",
   "metadata": {},
   "outputs": [],
   "source": []
  }
 ],
 "metadata": {
  "kernelspec": {
   "display_name": "Python 3",
   "language": "python",
   "name": "python3"
  },
  "language_info": {
   "codemirror_mode": {
    "name": "ipython",
    "version": 3
   },
   "file_extension": ".py",
   "mimetype": "text/x-python",
   "name": "python",
   "nbconvert_exporter": "python",
   "pygments_lexer": "ipython3",
   "version": "3.8.8"
  }
 },
 "nbformat": 4,
 "nbformat_minor": 5
}
